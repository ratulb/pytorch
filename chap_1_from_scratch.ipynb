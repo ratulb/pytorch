{
 "cells": [
  {
   "cell_type": "markdown",
   "metadata": {
    "colab_type": "text",
    "id": "view-in-github"
   },
   "source": [
    "<a href=\"https://colab.research.google.com/github/ratulb/pytorch/blob/main/chap_1_from_scratch.ipynb\" target=\"_parent\"><img src=\"https://colab.research.google.com/assets/colab-badge.svg\" alt=\"Open In Colab\"/></a>"
   ]
  },
  {
   "cell_type": "code",
   "execution_count": null,
   "metadata": {
    "id": "i2e7_DbjX6ZB"
   },
   "outputs": [],
   "source": [
    "import numpy as np\n",
    "import matplotlib.pyplot as plt\n",
    "from sklearn.linear_model import LinearRegression"
   ]
  },
  {
   "cell_type": "code",
   "execution_count": null,
   "metadata": {
    "id": "UA2mqy9VYS9h"
   },
   "outputs": [],
   "source": [
    "np.random.seed(42)\n",
    "x = np.random.rand(100, 1)\n",
    "y = 1 + 2 * x + .1 * np.random.randn(100, 1)"
   ]
  },
  {
   "cell_type": "code",
   "execution_count": null,
   "metadata": {
    "id": "OJrXUE_oYr9Z"
   },
   "outputs": [],
   "source": [
    "idx = np.arange(100)\n",
    "np.random.shuffle(idx)\n",
    "train_idx = idx[:80]\n",
    "val_idx = idx[80:]\n",
    "x_train, y_train = x[train_idx], y[train_idx]\n",
    "x_val, y_val = x[val_idx], y[val_idx]"
   ]
  },
  {
   "cell_type": "code",
   "execution_count": null,
   "metadata": {
    "id": "i4bQY8HqaHcA"
   },
   "outputs": [],
   "source": [
    "plt.figure(figsize=(20, 4))\n",
    "plt.subplot(1, 2, 1)\n",
    "plt.plot(x_train, y_train, 'o', color='orange')\n",
    "plt.title('Generated - Training Data')\n",
    "plt.xlabel('input')\n",
    "plt.ylabel('output')\n",
    "\n",
    "plt.subplot(1, 2, 2)\n",
    "plt.plot(x_train, y_train, 'o', color='green')\n",
    "plt.title('Generated - Validation Data')\n",
    "plt.xlabel('input')\n",
    "plt.ylabel('output')\n",
    "plt.subplots_adjust(wspace=.5)\n",
    "plt.show()"
   ]
  },
  {
   "cell_type": "code",
   "execution_count": null,
   "metadata": {
    "id": "isAoWYvAYp5w"
   },
   "outputs": [],
   "source": [
    "idx = np.arange(100)\n",
    "np.random.shuffle(idx)\n",
    "train_idx = idx[:80]\n",
    "val_idx = idx[80:]\n",
    "x_train, y_train = x[train_idx], y[train_idx]\n",
    "x_val, y_val = x[val_idx], y[val_idx]\n",
    "\n"
   ]
  },
  {
   "cell_type": "code",
   "execution_count": null,
   "metadata": {
    "id": "4ijV0wQNT5d6"
   },
   "outputs": [],
   "source": [
    "a = np.random.randn(1)\n",
    "b = np.random.randn(1)\n",
    "print(a, b)\n",
    "\n",
    "lr = 1e-2\n",
    "print(f\"Learing rate: lr {lr}\")"
   ]
  },
  {
   "cell_type": "code",
   "execution_count": null,
   "metadata": {
    "id": "LqgAERbRbbNk"
   },
   "outputs": [],
   "source": [
    "n_epoch = 1000\n",
    "for epoch in range(n_epoch):\n",
    "  yhat = a * x_train + b\n",
    "  error = y_train - yhat\n",
    "  loss = (error ** 2).mean()\n",
    "  if epoch % 100 == 0:\n",
    "    print(f\"Epoch {epoch+1}: loss {loss}\")\n",
    "  b_grad = -2 * error.mean()\n",
    "  a_grad = -2 * (x_train * error).mean()\n",
    "  b = b - lr * b_grad\n",
    "  a = a - lr * a_grad\n"
   ]
  },
  {
   "cell_type": "code",
   "execution_count": null,
   "metadata": {
    "id": "J-g2pWgTdyJ7"
   },
   "outputs": [],
   "source": [
    "print(a, b)"
   ]
  },
  {
   "cell_type": "code",
   "execution_count": null,
   "metadata": {
    "id": "rWNC_txBiTOw"
   },
   "outputs": [],
   "source": [
    "\n",
    "linear = LinearRegression()\n",
    "linear.fit(x_train, y_train)\n",
    "print(linear.coef_, linear.intercept_)\n"
   ]
  },
  {
   "cell_type": "markdown",
   "metadata": {
    "id": "JpHw_eTVjrP9"
   },
   "source": [
    "## Pytorch"
   ]
  },
  {
   "cell_type": "markdown",
   "metadata": {
    "id": "g1xvFSQ1jn71"
   },
   "source": []
  }
 ],
 "metadata": {
  "colab": {
   "authorship_tag": "ABX9TyOPOhYX5jQ8g0lYmBHaaD/J",
   "include_colab_link": true,
   "provenance": []
  },
  "kernelspec": {
   "display_name": "Python 3",
   "name": "python3"
  },
  "language_info": {
   "name": "python"
  }
 },
 "nbformat": 4,
 "nbformat_minor": 0
}
