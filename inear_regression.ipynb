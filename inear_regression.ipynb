{
  "nbformat": 4,
  "nbformat_minor": 0,
  "metadata": {
    "colab": {
      "provenance": [],
      "authorship_tag": "ABX9TyNYWig8ufJByD9fA/4q4mEC",
      "include_colab_link": true
    },
    "kernelspec": {
      "name": "python3",
      "display_name": "Python 3"
    },
    "language_info": {
      "name": "python"
    }
  },
  "cells": [
    {
      "cell_type": "markdown",
      "metadata": {
        "id": "view-in-github",
        "colab_type": "text"
      },
      "source": [
        "<a href=\"https://colab.research.google.com/github/ratulb/pytorch/blob/main/inear_regression.ipynb\" target=\"_parent\"><img src=\"https://colab.research.google.com/assets/colab-badge.svg\" alt=\"Open In Colab\"/></a>"
      ]
    },
    {
      "cell_type": "code",
      "execution_count": 804,
      "metadata": {
        "id": "w4a6XuczNUD3"
      },
      "outputs": [],
      "source": [
        "import torch\n",
        "import torch.nn as nn\n",
        "import numpy as np"
      ]
    },
    {
      "cell_type": "code",
      "source": [
        "# Input (temp, rainfall, humidity)\n",
        "inputs = np.array([[73, 67, 43],\n",
        "                   [91, 88, 64],\n",
        "                   [87, 134, 58],\n",
        "                   [91, 88, 64],\n",
        "                   [87, 134, 58],\n",
        "                   [91, 88, 64],\n",
        "                   [87, 134, 58],\n",
        "                   [91, 88, 64],\n",
        "                   [87, 134, 58],\n",
        "                   [102, 43, 37],\n",
        "                   [69, 96, 70]], dtype='float32')"
      ],
      "metadata": {
        "id": "OLnJ0jNZTwF5"
      },
      "execution_count": 805,
      "outputs": []
    },
    {
      "cell_type": "code",
      "source": [
        "torch.manual_seed(42)"
      ],
      "metadata": {
        "colab": {
          "base_uri": "https://localhost:8080/"
        },
        "id": "sjuJBlq5mIQj",
        "outputId": "1188ed9d-ac5c-4170-8822-f55e0776fb3e"
      },
      "execution_count": 806,
      "outputs": [
        {
          "output_type": "execute_result",
          "data": {
            "text/plain": [
              "<torch._C.Generator at 0x7a11ec3a8410>"
            ]
          },
          "metadata": {},
          "execution_count": 806
        }
      ]
    },
    {
      "cell_type": "code",
      "source": [
        "# Targets (apples, oranges)\n",
        "targets = np.array([[56, 70],\n",
        "                    [81, 101],\n",
        "                    [119, 133],\n",
        "                    [81, 101],\n",
        "                    [119, 133],\n",
        "                    [81, 101],\n",
        "                    [119, 133],\n",
        "                    [81, 101],\n",
        "                    [119, 133],\n",
        "                    [22, 37],\n",
        "                    [103, 119]], dtype='float32')"
      ],
      "metadata": {
        "id": "XVbjsiGogLQJ"
      },
      "execution_count": 807,
      "outputs": []
    },
    {
      "cell_type": "code",
      "source": [
        "# Convert inputs and targets to tensors\n",
        "inputs = torch.from_numpy(inputs)\n",
        "targets = torch.from_numpy(targets)\n"
      ],
      "metadata": {
        "id": "Sgzs2fn9h88q"
      },
      "execution_count": 808,
      "outputs": []
    },
    {
      "cell_type": "code",
      "source": [
        "# Weights and biases\n",
        "w = torch.randn(2, 3, requires_grad=True)\n",
        "b = torch.randn(2, requires_grad=True)\n"
      ],
      "metadata": {
        "id": "88R9zZOui046"
      },
      "execution_count": 809,
      "outputs": []
    },
    {
      "cell_type": "code",
      "source": [
        "def model(x):\n",
        "    return x @ w.t() + b"
      ],
      "metadata": {
        "id": "jd_350fxjL_S"
      },
      "execution_count": 810,
      "outputs": []
    },
    {
      "cell_type": "code",
      "source": [
        "# Generate predictions\n",
        "preds = model(inputs)\n",
        "print(preds)"
      ],
      "metadata": {
        "colab": {
          "base_uri": "https://localhost:8080/"
        },
        "id": "99WDoOONjVGi",
        "outputId": "8264be33-dc6e-40d9-a507-2e0961730bd1"
      },
      "execution_count": 811,
      "outputs": [
        {
          "output_type": "stream",
          "name": "stdout",
          "text": [
            "tensor([[  45.4987,  -67.0672],\n",
            "        [  59.1878,  -90.4141],\n",
            "        [  62.3595, -141.8688],\n",
            "        [  59.1878,  -90.4141],\n",
            "        [  62.3595, -141.8688],\n",
            "        [  59.1878,  -90.4141],\n",
            "        [  62.3595, -141.8688],\n",
            "        [  59.1878,  -90.4141],\n",
            "        [  62.3595, -141.8688],\n",
            "        [  50.7645,  -32.3210],\n",
            "        [  54.2179, -105.5822]], grad_fn=<AddBackward0>)\n"
          ]
        }
      ]
    },
    {
      "cell_type": "code",
      "source": [
        "# MSE loss\n",
        "def mse(t1, t2):\n",
        "    diff = t1 - t2\n",
        "    return torch.sum(diff * diff)/ diff.numel()"
      ],
      "metadata": {
        "id": "zkEFdrgzkO2U"
      },
      "execution_count": 812,
      "outputs": []
    },
    {
      "cell_type": "markdown",
      "source": [],
      "metadata": {
        "id": "S-KlJeNczlpE"
      }
    },
    {
      "cell_type": "code",
      "source": [
        "# Utility function to train the model\n",
        "def fit(num_epochs):\n",
        "    global b, w, inputs, targets\n",
        "\n",
        "    # Repeat for given number of epochs\n",
        "    for epoch in range(num_epochs):\n",
        "        permutation = torch.randperm(inputs.size(0))\n",
        "        inputs = inputs[permutation]\n",
        "        targets = targets[permutation]\n",
        "\n",
        "        # 1. Generate predictions\n",
        "        preds = model(inputs)\n",
        "\n",
        "        # 2. Calculate loss\n",
        "        loss = mse(preds, targets)\n",
        "\n",
        "        # 3. Compute gradients\n",
        "        loss.backward()\n",
        "\n",
        "        # 4. Update parameters using gradients\n",
        "        with torch.no_grad():\n",
        "            b -= b.grad * 1e-5\n",
        "            w -= w.grad * 1e-5\n",
        "\n",
        "            # Zero the gradients after updating\n",
        "            b.grad.zero_()\n",
        "            w.grad.zero_()\n",
        "\n",
        "        # Print the progress\n",
        "        if (epoch + 1) % 10 == 0:\n",
        "            print('Epoch [{}/{}], Loss: {:.4f}'.format(epoch + 1, num_epochs, loss.item()))\n",
        "\n",
        "# Train the model\n",
        "fit(100)\n"
      ],
      "metadata": {
        "colab": {
          "base_uri": "https://localhost:8080/"
        },
        "id": "KXo8xQ1E1Rln",
        "outputId": "52c7ada9-8402-4b62-e15b-b3f94ef9891e"
      },
      "execution_count": 813,
      "outputs": [
        {
          "output_type": "stream",
          "name": "stdout",
          "text": [
            "Epoch [10/100], Loss: 1041.6639\n",
            "Epoch [20/100], Loss: 662.6016\n",
            "Epoch [30/100], Loss: 603.6779\n",
            "Epoch [40/100], Loss: 552.3816\n",
            "Epoch [50/100], Loss: 505.6659\n",
            "Epoch [60/100], Loss: 463.1008\n",
            "Epoch [70/100], Loss: 424.3138\n",
            "Epoch [80/100], Loss: 388.9665\n",
            "Epoch [90/100], Loss: 356.7508\n",
            "Epoch [100/100], Loss: 327.3860\n"
          ]
        }
      ]
    }
  ]
}