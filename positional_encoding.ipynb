{
  "nbformat": 4,
  "nbformat_minor": 0,
  "metadata": {
    "colab": {
      "provenance": [],
      "authorship_tag": "ABX9TyNULqgvgm9ublqO2Knhkz2L",
      "include_colab_link": true
    },
    "kernelspec": {
      "name": "python3",
      "display_name": "Python 3"
    },
    "language_info": {
      "name": "python"
    }
  },
  "cells": [
    {
      "cell_type": "markdown",
      "metadata": {
        "id": "view-in-github",
        "colab_type": "text"
      },
      "source": [
        "<a href=\"https://colab.research.google.com/github/ratulb/pytorch/blob/main/positional_encoding.ipynb\" target=\"_parent\"><img src=\"https://colab.research.google.com/assets/colab-badge.svg\" alt=\"Open In Colab\"/></a>"
      ]
    },
    {
      "cell_type": "code",
      "execution_count": null,
      "metadata": {
        "id": "qh4B8RD4T-4j"
      },
      "outputs": [],
      "source": [
        "import numpy as np\n",
        "\n",
        "def positional_encoding(pos, d_model):\n",
        "    \"\"\"\n",
        "    Calculate the positional encoding for a given position.\n",
        "\n",
        "    Args:\n",
        "    - pos (int): Position of the token in the sequence.\n",
        "    - d_model (int): Dimensionality of the model (embedding dimension).\n",
        "\n",
        "    Returns:\n",
        "    - np.ndarray: Positional encoding vector of shape (d_model,).\n",
        "    \"\"\"\n",
        "    # Initialize positional encoding vector\n",
        "    pe = np.zeros((d_model,))\n",
        "\n",
        "\n",
        "    # Calculate PE for each dimension\n",
        "    for i in range(d_model):\n",
        "        if i % 2 == 0:\n",
        "            pe[i] = np.sin(pos / (10000 ** (2 * i / d_model)))\n",
        "        else:\n",
        "            pe[i] = np.cos(pos / (10000 ** (2 * i / d_model)))\n",
        "\n",
        "    return pe\n",
        "\n",
        "# Example usage\n",
        "pos_encoding = positional_encoding(pos=3, d_model=512)\n",
        "print(\"Positional Encoding Shape:\", pos_encoding.shape)\n",
        "print(\"Positional Encoding Vector:\", pos_encoding)\n"
      ]
    }
  ]
}