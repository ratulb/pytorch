{
  "nbformat": 4,
  "nbformat_minor": 0,
  "metadata": {
    "colab": {
      "provenance": [],
      "authorship_tag": "ABX9TyOcw5zhas1v8ecnDcxP+eHY",
      "include_colab_link": true
    },
    "kernelspec": {
      "name": "python3",
      "display_name": "Python 3"
    },
    "language_info": {
      "name": "python"
    }
  },
  "cells": [
    {
      "cell_type": "markdown",
      "metadata": {
        "id": "view-in-github",
        "colab_type": "text"
      },
      "source": [
        "<a href=\"https://colab.research.google.com/github/ratulb/pytorch/blob/main/positional_encoding.ipynb\" target=\"_parent\"><img src=\"https://colab.research.google.com/assets/colab-badge.svg\" alt=\"Open In Colab\"/></a>"
      ]
    },
    {
      "cell_type": "code",
      "execution_count": null,
      "metadata": {
        "id": "qh4B8RD4T-4j"
      },
      "outputs": [],
      "source": [
        "import numpy as np\n",
        "from matplotlib import pyplot as plt\n",
        "\n",
        "def positional_encoding(pos, d_model):\n",
        "    \"\"\"\n",
        "    Calculate the positional encoding for a given position.\n",
        "\n",
        "    Args:\n",
        "    - pos (int): Position of the token in the sequence.\n",
        "    - d_model (int): Dimensionality of the model (embedding dimension).\n",
        "\n",
        "    Returns:\n",
        "    - np.ndarray: Positional encoding vector of shape (d_model,).\n",
        "    \"\"\"\n",
        "    # Initialize positional encoding vector\n",
        "    pe = np.zeros((d_model,))\n",
        "\n",
        "\n",
        "    # Calculate PE for each dimension\n",
        "    for i in range(d_model):\n",
        "        if i % 2 == 0:\n",
        "            pe[i] = np.sin(pos / (10000 ** (2 * i / d_model)))\n",
        "        else:\n",
        "            pe[i] = np.cos(pos / (10000 ** (2 * i / d_model)))\n",
        "\n",
        "    return pe\n",
        "\n",
        "# Example usage\n",
        "pos_encoding = positional_encoding(pos=3, d_model=512)\n",
        "print(\"Positional Encoding Shape:\", pos_encoding.shape)\n",
        "print(\"Positional Encoding Vector:\", pos_encoding)\n",
        "\n",
        "paragraph = \"This is the first sentence. Here is the second sentence. This is the third sentence.\"\n",
        "words = paragraph.split()\n",
        "# Positional encoding for the 15th word in the paragraph\n",
        "pos_encoding_15 = positional_encoding(15, d_model=512)\n",
        "print(\"Positional Encoding for the 15th Word:\", pos_encoding_15)\n",
        "\n",
        "\n",
        "sentences = paragraph.split('.')\n",
        "words_sentence_2 = sentences[1].strip().split()\n",
        "# Positional encoding for the 15th word in the second sentence\n",
        "pos_encoding_1_in_sentence = positional_encoding(1, d_model=512) if len(words_sentence_2) >= 3 else None\n",
        "print(\"Positional Encoding for the 1st Word in the Second Sentence:\", pos_encoding_1_in_sentence)\n",
        "\n",
        "\n",
        "diff = np.diff(pos_encoding_1_in_sentence)\n",
        "\n",
        "# Check if all differences are less than zero\n",
        "is_decreasing = np.all(diff >= 0)\n",
        "\n",
        "print(is_decreasing)  # Output: True if all elements are decreasing, False otherwise\n",
        "\n"
      ]
    },
    {
      "cell_type": "code",
      "source": [
        "x_64 = np.arange(0, 64)\n",
        "plt.style.use('fivethirtyeight')\n",
        "pos_encoding_2 = positional_encoding(2, d_model=64)\n",
        "pos_encoding_4 = positional_encoding(3, d_model=64)\n",
        "plt.xlim(0, 74)\n",
        "plt.plot(x_64, pos_encoding_2)\n",
        "plt.plot(x_64, pos_encoding_4, color='red')\n",
        "plt.xlabel('Position')\n",
        "plt.ylabel('Positional Encoding')\n",
        "plt.title('Positional Encoding for d_model=64')\n",
        "plt.show()"
      ],
      "metadata": {
        "id": "hd6vkSarnvZ5"
      },
      "execution_count": null,
      "outputs": []
    }
  ]
}