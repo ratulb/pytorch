{
  "nbformat": 4,
  "nbformat_minor": 0,
  "metadata": {
    "colab": {
      "provenance": [],
      "authorship_tag": "ABX9TyPCrnpVM+xQfaNLVWxLBkjL",
      "include_colab_link": true
    },
    "kernelspec": {
      "name": "python3",
      "display_name": "Python 3"
    },
    "language_info": {
      "name": "python"
    }
  },
  "cells": [
    {
      "cell_type": "markdown",
      "metadata": {
        "id": "view-in-github",
        "colab_type": "text"
      },
      "source": [
        "<a href=\"https://colab.research.google.com/github/ratulb/pytorch/blob/main/regression_with_pytorch_builtins.ipynb\" target=\"_parent\"><img src=\"https://colab.research.google.com/assets/colab-badge.svg\" alt=\"Open In Colab\"/></a>"
      ]
    },
    {
      "cell_type": "code",
      "execution_count": null,
      "metadata": {
        "id": "w4a6XuczNUD3"
      },
      "outputs": [],
      "source": [
        "import torch\n",
        "import torch.nn as nn\n",
        "import numpy as np\n",
        "from torch.utils.data import TensorDataset, DataLoader\n",
        "import torch.nn.functional as F\n",
        "from sklearn.datasets import load_diabetes\n",
        "import pandas as pd"
      ]
    },
    {
      "cell_type": "code",
      "source": [
        "diabetes_sklearn_ds = load_diabetes(as_frame=True)\n",
        "features = torch.from_numpy(diabetes_sklearn_ds.data.to_numpy()).to(torch.float32)\n",
        "targets = torch.from_numpy(diabetes_sklearn_ds.target.to_numpy()).to(torch.float32)"
      ],
      "metadata": {
        "id": "sjuJBlq5mIQj"
      },
      "execution_count": null,
      "outputs": []
    },
    {
      "cell_type": "code",
      "source": [
        "train_ds = TensorDataset(features, targets)\n",
        "train_dl = DataLoader(train_ds, batch_size=10, shuffle=True)\n"
      ],
      "metadata": {
        "id": "bXBIHztAYSRv"
      },
      "execution_count": null,
      "outputs": []
    },
    {
      "cell_type": "code",
      "source": [
        "loss_fn = F.mse_loss\n",
        "model = nn.Linear(features.shape[1], 1)\n",
        "optimizer = torch.optim.SGD(model.parameters(), lr=1e-5)\n"
      ],
      "metadata": {
        "id": "AWn7UVI0ZZid"
      },
      "execution_count": null,
      "outputs": []
    },
    {
      "cell_type": "code",
      "source": [
        "# Utility function to train the model\n",
        "def fit(num_epochs, model, loss_fn, optimizer, train_dl):\n",
        "    model.train()\n",
        "    # Repeat for given number of epochs\n",
        "    for epoch in range(num_epochs):\n",
        "\n",
        "        # Train with batches of data\n",
        "        for xb,yb in train_dl:\n",
        "            # 1. Generate predictions\n",
        "            pred = model(xb)\n",
        "            yb = yb.view(-1, 1)\n",
        "\n",
        "            # 2. Calculate loss\n",
        "            loss = loss_fn(pred, yb)\n",
        "\n",
        "            # 3. Compute gradients\n",
        "            loss.backward()\n",
        "\n",
        "            # 4. Update parameters using gradients\n",
        "            optimizer.step()\n",
        "\n",
        "            # 5. Reset the gradients to zero\n",
        "            optimizer.zero_grad()\n",
        "\n",
        "        # Print the progress\n",
        "        if (epoch+1) % 10 == 0:\n",
        "            print('Epoch [{}/{}], Loss: {:.4f}'.format(epoch+1, num_epochs, loss.item()))"
      ],
      "metadata": {
        "id": "bAm8TZ0TZZhX"
      },
      "execution_count": null,
      "outputs": []
    },
    {
      "cell_type": "code",
      "source": [
        "fit(num_epochs=200, model=model, loss_fn=loss_fn, optimizer=optimizer, train_dl=train_dl)"
      ],
      "metadata": {
        "id": "YxfdZMqbf7RY"
      },
      "execution_count": null,
      "outputs": []
    },
    {
      "cell_type": "code",
      "source": [],
      "metadata": {
        "id": "SnIF22I5lhpu"
      },
      "execution_count": null,
      "outputs": []
    }
  ]
}